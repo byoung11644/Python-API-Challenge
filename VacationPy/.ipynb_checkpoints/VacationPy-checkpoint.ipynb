{
 "cells": [
  {
   "cell_type": "code",
   "execution_count": 1,
   "metadata": {},
   "outputs": [],
   "source": [
    "import matplotlib.pyplot as plt\n",
    "import pandas as pd\n",
    "import numpy as np\n",
    "import requests\n",
    "import gmaps\n",
    "import os\n",
    "from api_keys import g_key\n"
   ]
  },
  {
   "cell_type": "code",
   "execution_count": 2,
   "metadata": {},
   "outputs": [
    {
     "data": {
      "text/html": [
       "<div>\n",
       "<style scoped>\n",
       "    .dataframe tbody tr th:only-of-type {\n",
       "        vertical-align: middle;\n",
       "    }\n",
       "\n",
       "    .dataframe tbody tr th {\n",
       "        vertical-align: top;\n",
       "    }\n",
       "\n",
       "    .dataframe thead th {\n",
       "        text-align: right;\n",
       "    }\n",
       "</style>\n",
       "<table border=\"1\" class=\"dataframe\">\n",
       "  <thead>\n",
       "    <tr style=\"text-align: right;\">\n",
       "      <th></th>\n",
       "      <th>City</th>\n",
       "      <th>Latitude</th>\n",
       "      <th>Longitude</th>\n",
       "      <th>Temperature</th>\n",
       "      <th>Humidity</th>\n",
       "      <th>Cloudiness</th>\n",
       "      <th>Wind_Speed</th>\n",
       "      <th>Hemisphere</th>\n",
       "    </tr>\n",
       "  </thead>\n",
       "  <tbody>\n",
       "    <tr>\n",
       "      <th>0</th>\n",
       "      <td>Half Moon Bay</td>\n",
       "      <td>37.4636</td>\n",
       "      <td>-122.4286</td>\n",
       "      <td>57.78</td>\n",
       "      <td>71</td>\n",
       "      <td>1</td>\n",
       "      <td>3.44</td>\n",
       "      <td>Northern</td>\n",
       "    </tr>\n",
       "    <tr>\n",
       "      <th>1</th>\n",
       "      <td>Nikolskoye</td>\n",
       "      <td>59.7035</td>\n",
       "      <td>30.7861</td>\n",
       "      <td>45.10</td>\n",
       "      <td>87</td>\n",
       "      <td>90</td>\n",
       "      <td>6.71</td>\n",
       "      <td>Northern</td>\n",
       "    </tr>\n",
       "    <tr>\n",
       "      <th>2</th>\n",
       "      <td>Torbay</td>\n",
       "      <td>47.6666</td>\n",
       "      <td>-52.7314</td>\n",
       "      <td>31.28</td>\n",
       "      <td>64</td>\n",
       "      <td>75</td>\n",
       "      <td>28.77</td>\n",
       "      <td>Northern</td>\n",
       "    </tr>\n",
       "    <tr>\n",
       "      <th>3</th>\n",
       "      <td>Peniche</td>\n",
       "      <td>39.3558</td>\n",
       "      <td>-9.3811</td>\n",
       "      <td>72.00</td>\n",
       "      <td>56</td>\n",
       "      <td>92</td>\n",
       "      <td>11.99</td>\n",
       "      <td>Northern</td>\n",
       "    </tr>\n",
       "    <tr>\n",
       "      <th>4</th>\n",
       "      <td>Novy Urengoy</td>\n",
       "      <td>66.0833</td>\n",
       "      <td>76.6333</td>\n",
       "      <td>-22.99</td>\n",
       "      <td>99</td>\n",
       "      <td>5</td>\n",
       "      <td>6.38</td>\n",
       "      <td>Northern</td>\n",
       "    </tr>\n",
       "  </tbody>\n",
       "</table>\n",
       "</div>"
      ],
      "text/plain": [
       "            City  Latitude  Longitude  Temperature  Humidity  Cloudiness  \\\n",
       "0  Half Moon Bay   37.4636  -122.4286        57.78        71           1   \n",
       "1     Nikolskoye   59.7035    30.7861        45.10        87          90   \n",
       "2         Torbay   47.6666   -52.7314        31.28        64          75   \n",
       "3        Peniche   39.3558    -9.3811        72.00        56          92   \n",
       "4   Novy Urengoy   66.0833    76.6333       -22.99        99           5   \n",
       "\n",
       "   Wind_Speed Hemisphere  \n",
       "0        3.44   Northern  \n",
       "1        6.71   Northern  \n",
       "2       28.77   Northern  \n",
       "3       11.99   Northern  \n",
       "4        6.38   Northern  "
      ]
     },
     "execution_count": 2,
     "metadata": {},
     "output_type": "execute_result"
    }
   ],
   "source": [
    "#Import weather data\n",
    "\n",
    "weather_df = pd.read_csv(\"..\\\\WeatherPy\\\\weather_data.csv\")\n",
    "weather_df.head()"
   ]
  },
  {
   "cell_type": "code",
   "execution_count": 3,
   "metadata": {},
   "outputs": [],
   "source": [
    "#Store variables to be used in map\n",
    "\n",
    "locations = weather_df[[\"Latitude\", \"Longitude\"]].astype(float)\n",
    "humidity = weather_df[\"Humidity\"].astype(float)"
   ]
  },
  {
   "cell_type": "code",
   "execution_count": 4,
   "metadata": {},
   "outputs": [
    {
     "data": {
      "application/vnd.jupyter.widget-view+json": {
       "model_id": "8556ef8c411a41cb8689093fdc6c71b8",
       "version_major": 2,
       "version_minor": 0
      },
      "text/plain": [
       "Figure(layout=FigureLayout(height='420px'))"
      ]
     },
     "metadata": {},
     "output_type": "display_data"
    }
   ],
   "source": [
    "#Create map\n",
    "gmaps.configure(api_key=g_key)\n",
    "\n",
    "figure = gmaps.figure()\n",
    "humidity_heatmap = gmaps.heatmap_layer(locations, weights=humidity, \n",
    "                                       dissipating=False, max_intensity=100, \n",
    "                                       point_radius = 2.5)\n",
    "\n",
    "figure.add_layer(humidity_heatmap)\n",
    "\n",
    "figure"
   ]
  },
  {
   "cell_type": "code",
   "execution_count": 5,
   "metadata": {},
   "outputs": [
    {
     "data": {
      "text/plain": [
       "0      71.0\n",
       "1      87.0\n",
       "2      64.0\n",
       "3      56.0\n",
       "4      99.0\n",
       "       ... \n",
       "501    99.0\n",
       "502    93.0\n",
       "503    84.0\n",
       "504    33.0\n",
       "505    44.0\n",
       "Name: Humidity, Length: 506, dtype: float64"
      ]
     },
     "execution_count": 5,
     "metadata": {},
     "output_type": "execute_result"
    }
   ],
   "source": [
    "humidity"
   ]
  },
  {
   "cell_type": "code",
   "execution_count": 6,
   "metadata": {},
   "outputs": [
    {
     "data": {
      "text/plain": [
       "City           19\n",
       "Latitude       19\n",
       "Longitude      19\n",
       "Temperature    19\n",
       "Humidity       19\n",
       "Cloudiness     19\n",
       "Wind_Speed     19\n",
       "Hemisphere     19\n",
       "dtype: int64"
      ]
     },
     "execution_count": 6,
     "metadata": {},
     "output_type": "execute_result"
    }
   ],
   "source": [
    "#Narrow down dataframe\n",
    "\n",
    "vacation_df = weather_df.loc[(weather_df[\"Temperature\"] < 85) & (weather_df[\"Temperature\"] > 70) & (weather_df[\"Wind_Speed\"] < 10) & (weather_df[\"Cloudiness\"] < 10)]\n",
    "vacation_df = vacation_df.dropna()\n",
    "vacation_df.count()"
   ]
  },
  {
   "cell_type": "code",
   "execution_count": 7,
   "metadata": {},
   "outputs": [
    {
     "data": {
      "text/plain": [
       "['-20.9373,55.2919',\n",
       " '-23.7781,-45.3581',\n",
       " '25.1216,62.3254',\n",
       " '25.2582,55.3047',\n",
       " '-30.0319,-70.7081',\n",
       " '-23.1333,150.7333',\n",
       " '17.0151,54.0924',\n",
       " '-38.9516,-68.0591',\n",
       " '-34.6515,-59.4307',\n",
       " '14.8961,-24.4956',\n",
       " '-12.0432,-77.0282',\n",
       " '-8.2578,-49.2647',\n",
       " '22.5667,59.5289',\n",
       " '17.4189,121.4443',\n",
       " '18.6853,12.9164',\n",
       " '4.9158,29.4742',\n",
       " '25.3,73.9333',\n",
       " '21.4267,39.8261',\n",
       " '27.6652,54.1371']"
      ]
     },
     "execution_count": 7,
     "metadata": {},
     "output_type": "execute_result"
    }
   ],
   "source": [
    "coords_list = []\n",
    "for index, row in vacation_df.iterrows():\n",
    "    coords = str(row['Latitude']) + \",\" + str(row['Longitude'])\n",
    "    coords_list.append(coords)\n",
    "\n",
    "\n",
    "vacation_df[\"Locations\"] = coords_list\n",
    "coords_list"
   ]
  },
  {
   "cell_type": "code",
   "execution_count": 8,
   "metadata": {
    "scrolled": true
   },
   "outputs": [
    {
     "data": {
      "text/plain": [
       "[]"
      ]
     },
     "execution_count": 8,
     "metadata": {},
     "output_type": "execute_result"
    }
   ],
   "source": [
    "#Work with Google APIs to get hotels\n",
    "\n",
    "hotels_list = []\n",
    "new_coords = []\n",
    "for index, row in vacation_df.iterrows():\n",
    "    base_url = \"https://maps.googleapis.com/maps/api/place/nearbysearch/json\"\n",
    "    params = {\n",
    "        \"location\": row[\"Locations\"],\n",
    "        \"types\": \"lodging\",\n",
    "        \"radius\": 5000,\n",
    "        \"key\": g_key\n",
    "    }\n",
    "    response = requests.get(base_url, params)\n",
    "    full = response.json()\n",
    "    hotels = response.json()[\"results\"]\n",
    "    if hotels:\n",
    "        hotels_list.append(hotels[0][\"name\"])\n",
    "        new_coords.append(row[\"Locations\"])\n",
    "\n",
    "hotels"
   ]
  },
  {
   "cell_type": "code",
   "execution_count": 9,
   "metadata": {},
   "outputs": [
    {
     "data": {
      "text/html": [
       "<div>\n",
       "<style scoped>\n",
       "    .dataframe tbody tr th:only-of-type {\n",
       "        vertical-align: middle;\n",
       "    }\n",
       "\n",
       "    .dataframe tbody tr th {\n",
       "        vertical-align: top;\n",
       "    }\n",
       "\n",
       "    .dataframe thead th {\n",
       "        text-align: right;\n",
       "    }\n",
       "</style>\n",
       "<table border=\"1\" class=\"dataframe\">\n",
       "  <thead>\n",
       "    <tr style=\"text-align: right;\">\n",
       "      <th></th>\n",
       "      <th>Hotel Name</th>\n",
       "      <th>Locations</th>\n",
       "      <th>City</th>\n",
       "      <th>Latitude</th>\n",
       "      <th>Longitude</th>\n",
       "      <th>Temperature</th>\n",
       "      <th>Humidity</th>\n",
       "      <th>Cloudiness</th>\n",
       "      <th>Wind_Speed</th>\n",
       "      <th>Hemisphere</th>\n",
       "    </tr>\n",
       "  </thead>\n",
       "  <tbody>\n",
       "    <tr>\n",
       "      <th>0</th>\n",
       "      <td>Los Mosaicos</td>\n",
       "      <td>-30.0319,-70.7081</td>\n",
       "      <td>Vicuña</td>\n",
       "      <td>-30.0319</td>\n",
       "      <td>-70.7081</td>\n",
       "      <td>77.0</td>\n",
       "      <td>28</td>\n",
       "      <td>0</td>\n",
       "      <td>1.01</td>\n",
       "      <td>Southern</td>\n",
       "    </tr>\n",
       "  </tbody>\n",
       "</table>\n",
       "</div>"
      ],
      "text/plain": [
       "     Hotel Name          Locations    City  Latitude  Longitude  Temperature  \\\n",
       "0  Los Mosaicos  -30.0319,-70.7081  Vicuña  -30.0319   -70.7081         77.0   \n",
       "\n",
       "   Humidity  Cloudiness  Wind_Speed Hemisphere  \n",
       "0        28           0        1.01   Southern  "
      ]
     },
     "execution_count": 9,
     "metadata": {},
     "output_type": "execute_result"
    }
   ],
   "source": [
    "hotel_df = pd.DataFrame({\"Hotel Name\": hotels_list, \"Locations\": new_coords})\n",
    "hotel_df = pd.merge(hotel_df, vacation_df, on='Locations', how='left')\n",
    "hotel_df"
   ]
  },
  {
   "cell_type": "code",
   "execution_count": 10,
   "metadata": {},
   "outputs": [],
   "source": [
    "# Using the template add the hotel marks to the heatmap\n",
    "info_box_template = \"\"\"\n",
    "<dl>\n",
    "<dt>Name</dt><dd>{Hotel Name}</dd>\n",
    "<dt>City</dt><dd>{City}</dd>\n",
    "</dl>\n",
    "\"\"\"\n",
    "# Store the DataFrame Row\n",
    "# NOTE: be sure to update with your DataFrame name\n",
    "hotel_info = [info_box_template.format(**row) for index, row in hotel_df.iterrows()]\n",
    "locations = hotel_df[[\"Latitude\", \"Longitude\"]]\n",
    "\n",
    "info_layer = gmaps.symbol_layer(\n",
    "    locations, fill_color='rgba(0, 150, 0, 0.4)',\n",
    "    stroke_color='rgba(0, 0, 150, 0.4)', scale=2,\n",
    "    info_box_content=hotel_info\n",
    ")\n",
    "\n",
    "figure.add_layer(info_layer)"
   ]
  },
  {
   "cell_type": "code",
   "execution_count": 11,
   "metadata": {},
   "outputs": [
    {
     "data": {
      "application/vnd.jupyter.widget-view+json": {
       "model_id": "8556ef8c411a41cb8689093fdc6c71b8",
       "version_major": 2,
       "version_minor": 0
      },
      "text/plain": [
       "Figure(layout=FigureLayout(height='420px'))"
      ]
     },
     "metadata": {},
     "output_type": "display_data"
    }
   ],
   "source": [
    "figure"
   ]
  }
 ],
 "metadata": {
  "kernelspec": {
   "display_name": "Python 3",
   "language": "python",
   "name": "python3"
  },
  "language_info": {
   "codemirror_mode": {
    "name": "ipython",
    "version": 3
   },
   "file_extension": ".py",
   "mimetype": "text/x-python",
   "name": "python",
   "nbconvert_exporter": "python",
   "pygments_lexer": "ipython3",
   "version": "3.8.5"
  }
 },
 "nbformat": 4,
 "nbformat_minor": 4
}
