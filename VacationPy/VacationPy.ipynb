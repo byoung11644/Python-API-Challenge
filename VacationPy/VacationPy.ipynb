{
 "cells": [
  {
   "cell_type": "code",
   "execution_count": 1,
   "metadata": {},
   "outputs": [],
   "source": [
    "import matplotlib.pyplot as plt\n",
    "import pandas as pd\n",
    "import numpy as np\n",
    "import requests\n",
    "import gmaps\n",
    "import os\n",
    "from api_keys import g_key"
   ]
  },
  {
   "cell_type": "code",
   "execution_count": 2,
   "metadata": {},
   "outputs": [
    {
     "data": {
      "text/html": [
       "<div>\n",
       "<style scoped>\n",
       "    .dataframe tbody tr th:only-of-type {\n",
       "        vertical-align: middle;\n",
       "    }\n",
       "\n",
       "    .dataframe tbody tr th {\n",
       "        vertical-align: top;\n",
       "    }\n",
       "\n",
       "    .dataframe thead th {\n",
       "        text-align: right;\n",
       "    }\n",
       "</style>\n",
       "<table border=\"1\" class=\"dataframe\">\n",
       "  <thead>\n",
       "    <tr style=\"text-align: right;\">\n",
       "      <th></th>\n",
       "      <th>City</th>\n",
       "      <th>Latitude</th>\n",
       "      <th>Longitude</th>\n",
       "      <th>Temperature</th>\n",
       "      <th>Humidity</th>\n",
       "      <th>Cloudiness</th>\n",
       "      <th>Wind_Speed</th>\n",
       "      <th>Hemisphere</th>\n",
       "    </tr>\n",
       "  </thead>\n",
       "  <tbody>\n",
       "    <tr>\n",
       "      <th>0</th>\n",
       "      <td>Busselton</td>\n",
       "      <td>-33.65</td>\n",
       "      <td>115.33</td>\n",
       "      <td>52.79</td>\n",
       "      <td>52</td>\n",
       "      <td>0</td>\n",
       "      <td>12.15</td>\n",
       "      <td>Southern</td>\n",
       "    </tr>\n",
       "    <tr>\n",
       "      <th>1</th>\n",
       "      <td>Cidreira</td>\n",
       "      <td>-30.18</td>\n",
       "      <td>-50.21</td>\n",
       "      <td>66.56</td>\n",
       "      <td>86</td>\n",
       "      <td>100</td>\n",
       "      <td>19.62</td>\n",
       "      <td>Southern</td>\n",
       "    </tr>\n",
       "    <tr>\n",
       "      <th>2</th>\n",
       "      <td>Yellowknife</td>\n",
       "      <td>62.46</td>\n",
       "      <td>-114.35</td>\n",
       "      <td>23.00</td>\n",
       "      <td>85</td>\n",
       "      <td>90</td>\n",
       "      <td>9.17</td>\n",
       "      <td>Northern</td>\n",
       "    </tr>\n",
       "    <tr>\n",
       "      <th>3</th>\n",
       "      <td>Ushuaia</td>\n",
       "      <td>-54.80</td>\n",
       "      <td>-68.30</td>\n",
       "      <td>48.20</td>\n",
       "      <td>61</td>\n",
       "      <td>75</td>\n",
       "      <td>21.92</td>\n",
       "      <td>Southern</td>\n",
       "    </tr>\n",
       "    <tr>\n",
       "      <th>4</th>\n",
       "      <td>Okakarara</td>\n",
       "      <td>-20.58</td>\n",
       "      <td>17.43</td>\n",
       "      <td>94.57</td>\n",
       "      <td>10</td>\n",
       "      <td>45</td>\n",
       "      <td>11.63</td>\n",
       "      <td>Southern</td>\n",
       "    </tr>\n",
       "  </tbody>\n",
       "</table>\n",
       "</div>"
      ],
      "text/plain": [
       "          City  Latitude  Longitude  Temperature  Humidity  Cloudiness  \\\n",
       "0    Busselton    -33.65     115.33        52.79        52           0   \n",
       "1     Cidreira    -30.18     -50.21        66.56        86         100   \n",
       "2  Yellowknife     62.46    -114.35        23.00        85          90   \n",
       "3      Ushuaia    -54.80     -68.30        48.20        61          75   \n",
       "4    Okakarara    -20.58      17.43        94.57        10          45   \n",
       "\n",
       "   Wind_Speed Hemisphere  \n",
       "0       12.15   Southern  \n",
       "1       19.62   Southern  \n",
       "2        9.17   Northern  \n",
       "3       21.92   Southern  \n",
       "4       11.63   Southern  "
      ]
     },
     "execution_count": 2,
     "metadata": {},
     "output_type": "execute_result"
    }
   ],
   "source": [
    "#Import weather data\n",
    "\n",
    "weather_df = pd.read_csv(\"..\\\\WeatherPy\\\\weather_data.csv\")\n",
    "weather_df.head()"
   ]
  },
  {
   "cell_type": "code",
   "execution_count": 3,
   "metadata": {},
   "outputs": [],
   "source": [
    "#Store variables to be used in map\n",
    "\n",
    "locations = weather_df[[\"Latitude\", \"Longitude\"]].astype(float)\n",
    "humidity = weather_df[\"Humidity\"].astype(float)"
   ]
  },
  {
   "cell_type": "code",
   "execution_count": 4,
   "metadata": {},
   "outputs": [
    {
     "data": {
      "application/vnd.jupyter.widget-view+json": {
       "model_id": "d4202562b9b044b7922ada9d8114b81c",
       "version_major": 2,
       "version_minor": 0
      },
      "text/plain": [
       "Figure(layout=FigureLayout(height='420px'))"
      ]
     },
     "metadata": {},
     "output_type": "display_data"
    }
   ],
   "source": [
    "#Create map\n",
    "gmaps.configure(api_key=g_key)\n",
    "\n",
    "fig = gmaps.figure()\n",
    "humidity_heatmap = gmaps.heatmap_layer(locations, weights=humidity, \n",
    "                                 dissipating=False, max_intensity=100,\n",
    "                                 point_radius = 1)\n",
    "\n",
    "fig.add_layer(humidity_heatmap)\n",
    "fig"
   ]
  },
  {
   "cell_type": "code",
   "execution_count": 6,
   "metadata": {},
   "outputs": [
    {
     "data": {
      "text/plain": [
       "City           30\n",
       "Latitude       30\n",
       "Longitude      30\n",
       "Temperature    30\n",
       "Humidity       30\n",
       "Cloudiness     30\n",
       "Wind_Speed     30\n",
       "Hemisphere     30\n",
       "dtype: int64"
      ]
     },
     "execution_count": 6,
     "metadata": {},
     "output_type": "execute_result"
    }
   ],
   "source": [
    "#Narrow down dataframe\n",
    "\n",
    "vacation_df = weather_df.loc[(weather_df[\"Temperature\"] < 85) & (weather_df[\"Temperature\"] > 70) & (weather_df[\"Wind_Speed\"] < 10) & (weather_df[\"Cloudiness\"] < 10)]\n",
    "vacation_df.count()"
   ]
  },
  {
   "cell_type": "code",
   "execution_count": null,
   "metadata": {},
   "outputs": [],
   "source": []
  }
 ],
 "metadata": {
  "kernelspec": {
   "display_name": "Python 3",
   "language": "python",
   "name": "python3"
  },
  "language_info": {
   "codemirror_mode": {
    "name": "ipython",
    "version": 3
   },
   "file_extension": ".py",
   "mimetype": "text/x-python",
   "name": "python",
   "nbconvert_exporter": "python",
   "pygments_lexer": "ipython3",
   "version": "3.8.3"
  }
 },
 "nbformat": 4,
 "nbformat_minor": 4
}
