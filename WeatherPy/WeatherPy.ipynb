{
 "cells": [
  {
   "cell_type": "code",
   "execution_count": 25,
   "metadata": {},
   "outputs": [
    {
     "name": "stdout",
     "output_type": "stream",
     "text": [
      "Requirement already satisfied: citipy in c:\\users\\byoung\\anaconda3\\lib\\site-packages (0.0.5)\n",
      "Requirement already satisfied: kdtree>=0.12 in c:\\users\\byoung\\anaconda3\\lib\\site-packages (from citipy) (0.16)\n",
      "Note: you may need to restart the kernel to use updated packages.\n"
     ]
    }
   ],
   "source": [
    "pip install citipy"
   ]
  },
  {
   "cell_type": "code",
   "execution_count": 26,
   "metadata": {},
   "outputs": [],
   "source": [
    "from citipy import citipy\n",
    "import matplotlib.pyplot as plt\n",
    "import pandas as pd\n",
    "import numpy as np\n",
    "import requests\n",
    "import time\n",
    "from scipy.stats import linregress"
   ]
  },
  {
   "cell_type": "code",
   "execution_count": 29,
   "metadata": {},
   "outputs": [
    {
     "data": {
      "text/plain": [
       "550"
      ]
     },
     "execution_count": 29,
     "metadata": {},
     "output_type": "execute_result"
    }
   ],
   "source": [
    "#Create some variables\n",
    "\n",
    "\n",
    "output_file = \"weather_data.csv\"\n",
    "\n",
    "lat_lngs = []\n",
    "lat_range = (-90, 90)\n",
    "lng_range = (-180, 180)\n",
    "lats = np.random.uniform(lat_range[0], lat_range[1], size=1500)\n",
    "lngs = np.random.uniform(lng_range[0], lng_range[1], size=1500)\n",
    "lat_lngs = zip(lats, lngs)\n",
    "\n",
    "cities = []\n",
    "\n",
    "for lat_lng in lat_lngs:\n",
    "    city = citipy.nearest_city(lat_lng[0], lat_lng[1]).city_name\n",
    "    \n",
    "    if city not in cities and len(cities) < 550:\n",
    "        cities.append(city)\n",
    "        \n",
    "len(cities)"
   ]
  },
  {
   "cell_type": "code",
   "execution_count": 44,
   "metadata": {},
   "outputs": [
    {
     "data": {
      "text/plain": [
       "'tuktoyaktuk'"
      ]
     },
     "execution_count": 44,
     "metadata": {},
     "output_type": "execute_result"
    }
   ],
   "source": [
    "cities[2]"
   ]
  },
  {
   "cell_type": "code",
   "execution_count": 45,
   "metadata": {},
   "outputs": [
    {
     "name": "stdout",
     "output_type": "stream",
     "text": [
      "http://api.openweathermap.org/data/2.5/weather?q=t&appid=acf83678340ce5afec12d701bcdfc3c3&units=imperial\n",
      "http://api.openweathermap.org/data/2.5/weather?q=u&appid=acf83678340ce5afec12d701bcdfc3c3&units=imperial\n",
      "http://api.openweathermap.org/data/2.5/weather?q=k&appid=acf83678340ce5afec12d701bcdfc3c3&units=imperial\n",
      "http://api.openweathermap.org/data/2.5/weather?q=t&appid=acf83678340ce5afec12d701bcdfc3c3&units=imperial\n",
      "http://api.openweathermap.org/data/2.5/weather?q=o&appid=acf83678340ce5afec12d701bcdfc3c3&units=imperial\n",
      "http://api.openweathermap.org/data/2.5/weather?q=y&appid=acf83678340ce5afec12d701bcdfc3c3&units=imperial\n",
      "http://api.openweathermap.org/data/2.5/weather?q=a&appid=acf83678340ce5afec12d701bcdfc3c3&units=imperial\n",
      "http://api.openweathermap.org/data/2.5/weather?q=k&appid=acf83678340ce5afec12d701bcdfc3c3&units=imperial\n",
      "http://api.openweathermap.org/data/2.5/weather?q=t&appid=acf83678340ce5afec12d701bcdfc3c3&units=imperial\n",
      "http://api.openweathermap.org/data/2.5/weather?q=u&appid=acf83678340ce5afec12d701bcdfc3c3&units=imperial\n",
      "http://api.openweathermap.org/data/2.5/weather?q=k&appid=acf83678340ce5afec12d701bcdfc3c3&units=imperial\n"
     ]
    }
   ],
   "source": [
    "#Creating the API loop to create our lists\n",
    "\n",
    "url = \"http://api.openweathermap.org/data/2.5/weather?q=\"\n",
    "api_key = \"acf83678340ce5afec12d701bcdfc3c3\"\n",
    "units = \"imperial\"\n",
    "\n",
    "city = []\n",
    "latitutde = []\n",
    "longitude = []\n",
    "temperature = []\n",
    "humidity = []\n",
    "cloudiness = []\n",
    "wind_speed = []\n",
    "hemisphere = []\n",
    "\n",
    "\n",
    "for city in cities[]:\n",
    "    try:\n",
    "        query_url = f\"{url}{city}&appid={api_key}&units={units}\"\n",
    "        response = requests.get(query_url).json()\n",
    "        city.append(response['name'])\n",
    "        latitutde.append(response['coord'][\"lat\"])\n",
    "        longitude.append(response['coord'][\"lon\"])\n",
    "        temperature.append(response['main']['temp'])\n",
    "        humidity.append(response['main']['humidity'])\n",
    "        cloudiness.append(response['clouds']['all'])\n",
    "        wind_speed.append(response['wind']['speed'])\n",
    "        if response['coord'][\"lat\"] > 0:\n",
    "            hemisphere.append(\"Northern\")\n",
    "        else:\n",
    "            hemisphere.append(\"Southern\")\n",
    "\n",
    "        print(f\"Record {cities.index(city) + 1} found! | response['name']\")\n",
    "    except:\n",
    "        print(f\"Record {cities.index(city) + 1} not found.\")\n",
    "        pass\n"
   ]
  },
  {
   "cell_type": "code",
   "execution_count": null,
   "metadata": {},
   "outputs": [],
   "source": []
  }
 ],
 "metadata": {
  "kernelspec": {
   "display_name": "Python 3",
   "language": "python",
   "name": "python3"
  },
  "language_info": {
   "codemirror_mode": {
    "name": "ipython",
    "version": 3
   },
   "file_extension": ".py",
   "mimetype": "text/x-python",
   "name": "python",
   "nbconvert_exporter": "python",
   "pygments_lexer": "ipython3",
   "version": "3.8.3"
  }
 },
 "nbformat": 4,
 "nbformat_minor": 4
}
