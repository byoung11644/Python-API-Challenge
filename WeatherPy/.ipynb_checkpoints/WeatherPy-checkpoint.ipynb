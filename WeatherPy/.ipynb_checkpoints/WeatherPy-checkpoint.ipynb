{
 "cells": [
  {
   "cell_type": "code",
   "execution_count": 1,
   "metadata": {},
   "outputs": [
    {
     "name": "stdout",
     "output_type": "stream",
     "text": [
      "Requirement already satisfied: citipy in c:\\users\\byoun\\miniconda3\\lib\\site-packages (0.0.5)\n",
      "Requirement already satisfied: kdtree>=0.12 in c:\\users\\byoun\\miniconda3\\lib\\site-packages (from citipy) (0.16)\n",
      "Note: you may need to restart the kernel to use updated packages.\n"
     ]
    }
   ],
   "source": [
    "pip install citipy"
   ]
  },
  {
   "cell_type": "code",
   "execution_count": 2,
   "metadata": {},
   "outputs": [],
   "source": [
    "from citipy import citipy\n",
    "import matplotlib.pyplot as plt\n",
    "import pandas as pd\n",
    "import numpy as np\n",
    "import requests\n",
    "import time\n",
    "from scipy.stats import linregress"
   ]
  },
  {
   "cell_type": "code",
   "execution_count": 3,
   "metadata": {},
   "outputs": [
    {
     "data": {
      "text/plain": [
       "550"
      ]
     },
     "execution_count": 3,
     "metadata": {},
     "output_type": "execute_result"
    }
   ],
   "source": [
    "#Create some variables we will be using\n",
    "\n",
    "\n",
    "output_file = \"weather_data.csv\"\n",
    "\n",
    "lat_lngs = []\n",
    "lat_range = (-90, 90)\n",
    "lng_range = (-180, 180)\n",
    "lats = np.random.uniform(lat_range[0], lat_range[1], size=1500)\n",
    "lngs = np.random.uniform(lng_range[0], lng_range[1], size=1500)\n",
    "\n",
    "#Create our lat_lngs output and our cities list\n",
    "lat_lngs = zip(lats, lngs)\n",
    "cities = []\n",
    "\n",
    "for lat_lng in lat_lngs:\n",
    "    city = citipy.nearest_city(lat_lng[0], lat_lng[1]).city_name\n",
    "    \n",
    "    if city not in cities and len(cities) < 550:\n",
    "        cities.append(city)\n",
    "        \n",
    "len(cities)"
   ]
  },
  {
   "cell_type": "code",
   "execution_count": 4,
   "metadata": {},
   "outputs": [
    {
     "data": {
      "text/plain": [
       "'ushuaia'"
      ]
     },
     "execution_count": 4,
     "metadata": {},
     "output_type": "execute_result"
    }
   ],
   "source": [
    "cities[0]"
   ]
  },
  {
   "cell_type": "code",
   "execution_count": 6,
   "metadata": {},
   "outputs": [
    {
     "ename": "ModuleNotFoundError",
     "evalue": "No module named 'config.py'; 'config' is not a package",
     "output_type": "error",
     "traceback": [
      "\u001b[1;31m---------------------------------------------------------------------------\u001b[0m",
      "\u001b[1;31mModuleNotFoundError\u001b[0m                       Traceback (most recent call last)",
      "\u001b[1;32m<ipython-input-6-89e33d6ad29c>\u001b[0m in \u001b[0;36m<module>\u001b[1;34m\u001b[0m\n\u001b[0;32m      1\u001b[0m \u001b[1;31m#Creating the API loop to create our lists of data we will use\u001b[0m\u001b[1;33m\u001b[0m\u001b[1;33m\u001b[0m\u001b[1;33m\u001b[0m\u001b[0m\n\u001b[0;32m      2\u001b[0m \u001b[1;33m\u001b[0m\u001b[0m\n\u001b[1;32m----> 3\u001b[1;33m \u001b[1;32mfrom\u001b[0m \u001b[0mconfig\u001b[0m\u001b[1;33m.\u001b[0m\u001b[0mpy\u001b[0m \u001b[1;32mimport\u001b[0m \u001b[0mweather_api_key\u001b[0m\u001b[1;33m\u001b[0m\u001b[1;33m\u001b[0m\u001b[0m\n\u001b[0m\u001b[0;32m      4\u001b[0m \u001b[1;33m\u001b[0m\u001b[0m\n\u001b[0;32m      5\u001b[0m \u001b[0murl\u001b[0m \u001b[1;33m=\u001b[0m \u001b[1;34m\"http://api.openweathermap.org/data/2.5/weather?q=\"\u001b[0m\u001b[1;33m\u001b[0m\u001b[1;33m\u001b[0m\u001b[0m\n",
      "\u001b[1;31mModuleNotFoundError\u001b[0m: No module named 'config.py'; 'config' is not a package"
     ]
    }
   ],
   "source": [
    "#Creating the API loop to create our lists of data we will use\n",
    "import json\n",
    "\n",
    "with open('config.json') as f:\n",
    "    data = json.load(f)\n",
    "    weather_api_key = data['weather_api_key']\n",
    "\n",
    "url = \"http://api.openweathermap.org/data/2.5/weather?q=\"\n",
    "api_key = weather_api_key\n",
    "units = \"imperial\"\n",
    "\n",
    "town = []\n",
    "latitutde = []\n",
    "longitude = []\n",
    "temperature = []\n",
    "humidity = []\n",
    "cloudiness = []\n",
    "wind_speed = []\n",
    "hemisphere = []\n",
    "\n",
    "\n",
    "for city in cities:\n",
    "    try:\n",
    "        query_url = f\"{url}{city}&appid={api_key}&units={units}\"\n",
    "        response = requests.get(query_url).json()\n",
    "        town.append(response['name'])\n",
    "        latitutde.append(response['coord'][\"lat\"])\n",
    "        longitude.append(response['coord'][\"lon\"])\n",
    "        temperature.append(response['main']['temp'])\n",
    "        humidity.append(response['main']['humidity'])\n",
    "        cloudiness.append(response['clouds']['all'])\n",
    "        wind_speed.append(response['wind']['speed'])\n",
    "        if response['coord'][\"lat\"] > 0:\n",
    "            hemisphere.append(\"Northern\")\n",
    "        else:\n",
    "            hemisphere.append(\"Southern\")\n",
    "\n",
    "        print(f\"Record {cities.index(city) + 1} found! | {response['name']}\")\n",
    "    except Exception as ex:\n",
    "        print(f\"Record {cities.index(city) + 1} not found.\")\n",
    "        pass\n"
   ]
  },
  {
   "cell_type": "code",
   "execution_count": null,
   "metadata": {},
   "outputs": [],
   "source": [
    "#Create a dataframe of our data\n",
    "dict = {\"City\": town, \"Latitude\": latitutde, \"Longitude\": longitude, \"Temperature\": temperature, \"Humidity\": humidity, \"Cloudiness\": cloudiness, \"Wind_Speed\": wind_speed, \"Hemisphere\": hemisphere}\n",
    "weather_data = pd.DataFrame(dict)\n",
    "\n",
    "#Save data to a .csv\n",
    "weather_data.to_csv(output_file, encoding='utf-8', index=False)\n",
    "\n",
    "weather_data.head()"
   ]
  },
  {
   "cell_type": "code",
   "execution_count": null,
   "metadata": {},
   "outputs": [],
   "source": [
    "#Create the scatter plot comparisons and save to png file\n",
    "\n",
    "weather_data.plot(kind=\"scatter\", x=\"Temperature\", y=\"Latitude\", ylim=(-90, 90), grid=True, figsize=(10,8), title=\"Temperature (F) vs. Latitude\")\n",
    "\n",
    "plt.savefig('temp_lat.png')\n",
    "\n",
    "#This code is taking the temperature(f) of our 505 randomly selected cities as the x-axis and latitude as the y-axis. It shows the increase in temperatures around the 0 latitude equator. The y-limits are set to 90 and -90, so these charts also shows the higher number of cities and distance from equator in the Northern hemisphere."
   ]
  },
  {
   "cell_type": "code",
   "execution_count": null,
   "metadata": {},
   "outputs": [],
   "source": [
    "weather_data.plot(kind=\"scatter\", x=\"Humidity\", y=\"Latitude\", ylim=(-90, 90), grid=True, figsize=(10,8), title=\"Humidity (%) vs. Latitude\")\n",
    "\n",
    "plt.savefig('humid_lat.png')\n",
    "\n",
    "#This code is taking the humidity percentage number of our 505 randomly selected cities as the x-axis and latitude as the y-axis. It shows a slight correlation for distance from equator and humidity levels at this point in the year. It also shows humidity levels above about 75 for most cities. "
   ]
  },
  {
   "cell_type": "code",
   "execution_count": null,
   "metadata": {},
   "outputs": [],
   "source": [
    "weather_data.plot(kind=\"scatter\", x=\"Cloudiness\", y=\"Latitude\", ylim=(-90, 90), grid=True, figsize=(10,8), title=\"Cloudiness (%) vs. Latitude\")\n",
    "\n",
    "plt.savefig('cloudiness_lat.png')\n",
    "\n",
    "#This code is taking the cloudiness percentage number of our 505 randomly selected cities as the x-axis and latitude as the y-axis. It shows a pretty even distribution of cloudiness levels up and down the different latitudes."
   ]
  },
  {
   "cell_type": "code",
   "execution_count": null,
   "metadata": {},
   "outputs": [],
   "source": [
    "weather_data.plot(kind=\"scatter\", x=\"Wind_Speed\", y=\"Latitude\", ylim=(-90, 90), grid=True, figsize=(10,8), title=\"Wind Speed (mph) vs. Latitude\")\n",
    "\n",
    "plt.savefig('wind_lat.png')\n",
    "\n",
    "#This code is taking the wind speed of our 505 randomly selected cities as the x-axis and latitude as the y-axis. It shows a pretty even distribution of wind speed up and down the different latitudes. There are a few high wind cities in the northern hemisphere that may be outliers. It could be because of weather patterns, mountain ranges, or just more samples in the northern hemisphere."
   ]
  },
  {
   "cell_type": "code",
   "execution_count": null,
   "metadata": {},
   "outputs": [],
   "source": [
    "#Create the Norhtern and Southern Hemisphere df\n",
    "weather_data_nh = weather_data.loc[weather_data['Hemisphere'] == 'Northern']\n",
    "weather_data_sh = weather_data.loc[weather_data['Hemisphere'] == 'Southern']\n",
    "weather_data_nh.head()"
   ]
  },
  {
   "cell_type": "code",
   "execution_count": null,
   "metadata": {},
   "outputs": [],
   "source": [
    "#Plot the scatters again\n",
    "\n",
    "(slope, intercept, r_value, p_value, std_err) = linregress(weather_data_nh[\"Temperature\"], weather_data_nh[\"Latitude\"])\n",
    "weather_data_nh.plot(kind=\"scatter\", x=\"Temperature\", y=\"Latitude\", ylim=(0, 90), grid=True, figsize=(10,8), title=\"Northern Hemisphere - Temperature (F) vs. Latitude\")\n",
    "x_values = weather_data_nh[\"Temperature\"]\n",
    "lr = (slope*x_values) + intercept\n",
    "plt.plot(x_values, lr, color=\"red\")\n",
    "\n",
    "plt.savefig('Norhtern_temp.png')\n",
    "plt.show()\n",
    "print(f\"The r-value is: {round(r_value,4)}\")\n",
    "print(f\"y = {round(slope,2)}x + {round(intercept, 2)}\")\n",
    "\n"
   ]
  },
  {
   "cell_type": "code",
   "execution_count": null,
   "metadata": {},
   "outputs": [],
   "source": [
    "(slope, intercept, r_value, p_value, std_err) = linregress(weather_data_sh[\"Temperature\"], weather_data_sh[\"Latitude\"])\n",
    "weather_data_sh.plot(kind=\"scatter\", x=\"Temperature\", y=\"Latitude\", ylim=(-90, 0), grid=True, figsize=(10,8), title=\"Southern Hemisphere - Temperature (F) vs. Latitude\")\n",
    "x_values = weather_data_sh[\"Temperature\"]\n",
    "lr = (slope*x_values) + intercept\n",
    "plt.plot(x_values, lr, color=\"red\")\n",
    "\n",
    "plt.savefig('Southern_temp.png')\n",
    "plt.show()\n",
    "print(f\"The r-value is: {round(r_value,4)}\")\n",
    "print(f\"y = {round(slope,2)}x + {round(intercept, 2)}\")\n",
    "\n"
   ]
  },
  {
   "cell_type": "markdown",
   "metadata": {},
   "source": [
    "#The two temperature charts have a strong relationship, as illustrated by the r value. The linear regression slope correlates with the data displayed. We can safely say temperature is higher the closer the latitude is to 0."
   ]
  },
  {
   "cell_type": "code",
   "execution_count": null,
   "metadata": {},
   "outputs": [],
   "source": [
    "(slope, intercept, r_value, p_value, std_err) = linregress(weather_data_nh[\"Humidity\"], weather_data_nh[\"Latitude\"])\n",
    "weather_data_nh.plot(kind=\"scatter\", x=\"Humidity\", y=\"Latitude\", ylim=(0, 90), grid=True, figsize=(10,8), title=\"Northern Hemisphere - Humidity (%) vs. Latitude\")\n",
    "x_values = weather_data_nh[\"Humidity\"]\n",
    "lr = (slope*x_values) + intercept\n",
    "plt.plot(x_values, lr, color=\"red\")\n",
    "\n",
    "plt.savefig('Northern_humid.png')\n",
    "plt.show()\n",
    "print(f\"The r-value is: {round(r_value,4)}\")\n",
    "print(f\"y = {round(slope,2)}x + {round(intercept, 2)}\")\n",
    "\n"
   ]
  },
  {
   "cell_type": "code",
   "execution_count": null,
   "metadata": {},
   "outputs": [],
   "source": [
    "(slope, intercept, r_value, p_value, std_err) = linregress(weather_data_sh[\"Humidity\"], weather_data_sh[\"Latitude\"])\n",
    "weather_data_sh.plot(kind=\"scatter\", x=\"Humidity\", y=\"Latitude\", ylim=(-90, 0), grid=True, figsize=(10,8), title=\"Southern Hemisphere - Humidity (%) vs. Latitude\")\n",
    "x_values = weather_data_sh[\"Humidity\"]\n",
    "lr = (slope*x_values) + intercept\n",
    "plt.plot(x_values, lr, color=\"red\")\n",
    "\n",
    "plt.savefig('Southern_humid_lat.png')\n",
    "plt.show()\n",
    "print(f\"The r-value is: {round(r_value,4)}\")\n",
    "print(f\"y = {round(slope,2)}x + {round(intercept, 2)}\")\n",
    "\n"
   ]
  },
  {
   "cell_type": "markdown",
   "metadata": {},
   "source": [
    "Humidity seems to have a slight relationship with latitude, as illustrated by the r-values. It  is stronger in the northern hemisphere. This could be due to more cities in the northern hemisphere, or because cities are more spread out by latitude in the northern."
   ]
  },
  {
   "cell_type": "code",
   "execution_count": null,
   "metadata": {},
   "outputs": [],
   "source": [
    "(slope, intercept, r_value, p_value, std_err) = linregress(weather_data_nh[\"Cloudiness\"], weather_data_nh[\"Latitude\"])\n",
    "weather_data_nh.plot(kind=\"scatter\", x=\"Cloudiness\", y=\"Latitude\", ylim=(0, 90), grid=True, figsize=(10,8), title=\"Northern Hemisphere - Cloudiness (%) vs. Latitude\")\n",
    "x_values = weather_data_nh[\"Cloudiness\"]\n",
    "lr = (slope*x_values) + intercept\n",
    "plt.plot(x_values, lr, color=\"red\")\n",
    "\n",
    "plt.savefig('Northern_cloudiness.png')\n",
    "plt.show()\n",
    "print(f\"The r-value is: {round(r_value,4)}\")\n",
    "print(f\"y = {round(slope,2)}x + {round(intercept, 2)}\")\n",
    "\n"
   ]
  },
  {
   "cell_type": "code",
   "execution_count": null,
   "metadata": {},
   "outputs": [],
   "source": [
    "(slope, intercept, r_value, p_value, std_err) = linregress(weather_data_sh[\"Cloudiness\"], weather_data_sh[\"Latitude\"])\n",
    "weather_data_sh.plot(kind=\"scatter\", x=\"Cloudiness\", y=\"Latitude\", ylim=(-90, 0), grid=True, figsize=(10,8), title=\"Southern Hemisphere - Cloudiness (%) vs. Latitude\")\n",
    "x_values = weather_data_sh[\"Cloudiness\"]\n",
    "lr = (slope*x_values) + intercept\n",
    "plt.plot(x_values, lr, color=\"red\")\n",
    "\n",
    "plt.savefig('Southern_cloudiness.png')\n",
    "plt.show()\n",
    "print(f\"The r-value is: {round(r_value,4)}\")\n",
    "print(f\"y = {round(slope,2)}x + {round(intercept, 2)}\")\n",
    "\n"
   ]
  },
  {
   "cell_type": "markdown",
   "metadata": {},
   "source": [
    "Cloudiness does not seem to have a relationship with latitude. The r-value is very close to 0, and the slope is pretty flat."
   ]
  },
  {
   "cell_type": "code",
   "execution_count": null,
   "metadata": {},
   "outputs": [],
   "source": [
    "(slope, intercept, r_value, p_value, std_err) = linregress(weather_data_nh[\"Wind_Speed\"], weather_data_nh[\"Latitude\"])\n",
    "weather_data_nh.plot(kind=\"scatter\", x=\"Wind_Speed\", y=\"Latitude\", ylim=(0, 90), grid=True, figsize=(10,8), title=\"Northern Hemisphere - Wind Speed (%) vs. Latitude\")\n",
    "x_values = weather_data_nh[\"Wind_Speed\"]\n",
    "lr = (slope*x_values) + intercept\n",
    "plt.plot(x_values, lr, color=\"red\")\n",
    "\n",
    "plt.savefig('Northern_wind.png')\n",
    "plt.show()\n",
    "print(f\"The r-value is: {round(r_value,4)}\")\n",
    "print(f\"y = {round(slope,2)}x + {round(intercept, 2)}\")\n",
    "\n"
   ]
  },
  {
   "cell_type": "code",
   "execution_count": null,
   "metadata": {},
   "outputs": [],
   "source": [
    "(slope, intercept, r_value, p_value, std_err) = linregress(weather_data_sh[\"Wind_Speed\"], weather_data_sh[\"Latitude\"])\n",
    "weather_data_sh.plot(kind=\"scatter\", x=\"Wind_Speed\", y=\"Latitude\", ylim=(-90, 0), grid=True, figsize=(10,8), title=\"Southern Hemisphere - Wind Speed (%) vs. Latitude\")\n",
    "x_values = weather_data_sh[\"Wind_Speed\"]\n",
    "lr = (slope*x_values) + intercept\n",
    "plt.plot(x_values, lr, color=\"red\")\n",
    "\n",
    "plt.savefig('Southern_wind.png')\n",
    "plt.show()\n",
    "print(f\"The r-value is: {round(r_value,4)}\")\n",
    "print(f\"y = {round(slope,2)}x + {round(intercept, 2)}\")\n",
    "\n"
   ]
  },
  {
   "cell_type": "markdown",
   "metadata": {},
   "source": [
    "Wind speed has a slight relationship with latitude, but the r-values are close to zero. This could be due to elevation changes close to the equator, or due to jet streams and climates further from the equator. Again, the northenr hemisphere is more spread out and has more cities than the southern."
   ]
  }
 ],
 "metadata": {
  "kernelspec": {
   "display_name": "Python 3",
   "language": "python",
   "name": "python3"
  },
  "language_info": {
   "codemirror_mode": {
    "name": "ipython",
    "version": 3
   },
   "file_extension": ".py",
   "mimetype": "text/x-python",
   "name": "python",
   "nbconvert_exporter": "python",
   "pygments_lexer": "ipython3",
   "version": "3.8.5"
  }
 },
 "nbformat": 4,
 "nbformat_minor": 4
}
